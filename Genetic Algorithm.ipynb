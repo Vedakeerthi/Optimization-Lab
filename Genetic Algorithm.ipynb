{
 "cells": [
  {
   "cell_type": "markdown",
   "id": "506fa780-8f52-431d-9bb0-6660745d6fee",
   "metadata": {},
   "source": [
    "### Algorithm"
   ]
  },
  {
   "cell_type": "raw",
   "id": "26b8eaa1-f1ec-43c1-9a36-66b48ad2994f",
   "metadata": {},
   "source": [
    "pop -> decode from bits to continous -> |compute fitness -> best parent -> random crossover pt -> child = p1[ct:]+p2[:ct] -> mutation bit[i] = 1 - bit[i]| -> return best score"
   ]
  },
  {
   "cell_type": "markdown",
   "id": "b60b741b-87c8-4725-9960-aa0a359bfb09",
   "metadata": {},
   "source": [
    "### Continous optimization"
   ]
  },
  {
   "cell_type": "code",
   "execution_count": 229,
   "id": "12c43fb3-84cc-464b-b3e1-061e85cbe276",
   "metadata": {},
   "outputs": [],
   "source": [
    "import numpy as np\n",
    "from numpy.random import randint\n",
    "from numpy.random import rand"
   ]
  },
  {
   "cell_type": "code",
   "execution_count": 230,
   "id": "85635dea-8776-4a73-bb55-45c3773f5408",
   "metadata": {},
   "outputs": [],
   "source": [
    "def objective_function(x):\n",
    "    return x[0]**2 + x[1]**2"
   ]
  },
  {
   "cell_type": "code",
   "execution_count": 231,
   "id": "2786c2e0-4a11-4688-a436-18a2aef5b12c",
   "metadata": {
    "tags": []
   },
   "outputs": [],
   "source": [
    "def decode(bounds, n_bits, bitstring):\n",
    "    decoded = []\n",
    "    largest = 2**n_bits\n",
    "    for i in range(len(bounds)):\n",
    "        start,end = i * n_bits, (i*n_bits)+n_bits\n",
    "        substring = bitstring[start:end]\n",
    "        chars = ''.join([str(s) for s in substring])\n",
    "        integer = int(chars,2)\n",
    "        \n",
    "        value = bounds[i][0] + (integer/largest) * (bounds[i][1] - bounds[i][0])\n",
    "        decoded.append(value)\n",
    "    return decoded"
   ]
  },
  {
   "cell_type": "code",
   "execution_count": 232,
   "id": "c75d1560-949c-4f0e-9758-e25cf1b9b433",
   "metadata": {
    "tags": []
   },
   "outputs": [],
   "source": [
    "def selection(pop, scores, k=3):\n",
    "\tselection_ix = randint(len(pop))\n",
    "\tfor ix in randint(0, len(pop), k-1):\n",
    "\t\tif scores[ix] < scores[selection_ix]:\n",
    "\t\t\tselection_ix = ix\n",
    "\treturn pop[selection_ix]"
   ]
  },
  {
   "cell_type": "code",
   "execution_count": 233,
   "id": "5268a856-ed2e-464a-aa43-be778f1693f8",
   "metadata": {},
   "outputs": [],
   "source": [
    "def crossover(p1,p2,r_cross):\n",
    "\tc1, c2 = p1.copy(), p2.copy()\n",
    "\tif rand() < r_cross:\n",
    "\t\tpt = randint(1, len(p1)-2)\n",
    "\t\tc1 = p1[:pt] + p2[pt:]\n",
    "\t\tc2 = p2[:pt] + p1[pt:]\n",
    "\treturn [c1, c2]"
   ]
  },
  {
   "cell_type": "code",
   "execution_count": 234,
   "id": "4f23f383-78c7-41c4-9bd1-6fe59db56c91",
   "metadata": {},
   "outputs": [],
   "source": [
    "def mutation(bitstring,r_mut):\n",
    "    for i in range(len(bitstring)):\n",
    "        if rand() < r_mut:\n",
    "            bitstring[i] = 1 - bitstring[i]"
   ]
  },
  {
   "cell_type": "code",
   "execution_count": 235,
   "id": "fadebcc6-30f9-4b10-b0b7-48b282d9e9a6",
   "metadata": {},
   "outputs": [],
   "source": [
    "def genetic_algorithm(objective_function,bounds,r_mut,n_iter=100,r_cross=0.9,n_bits=16,n_pop=100):\n",
    "    \n",
    "    pop = [randint(0, 2, n_bits*len(bounds)).tolist() for _ in range(n_pop)]\n",
    "                         #n_bits\n",
    "    best, best_eval = 0, objective_function(decode(bounds, n_bits, pop[0]))\n",
    "                         #objective(pop[0])\n",
    "    for gen in range(n_iter):\n",
    "\n",
    "        decoded = [decode(bounds, n_bits, p) for p in pop]\n",
    "\n",
    "        scores = [objective_function(d) for d in decoded]\n",
    "\t\t#scores = [objective(i) for i in pop]\n",
    "         \n",
    "        for i in range(n_pop):\n",
    "            if scores[i] < best_eval:\n",
    "                best, best_eval = pop[i], scores[i]\n",
    "                print(f\">iteration {gen}, new best f({decoded[i]}) = {scores[i]}\")\n",
    "\t\n",
    "        selected = [selection(pop, scores) for _ in range(n_pop)]\n",
    "\t\n",
    "        children = list()\n",
    "        for i in range(0, n_pop, 2):\n",
    "\t\t\t\n",
    "            p1, p2 = selected[i], selected[i+1]\n",
    "\t\n",
    "            for c in crossover(p1, p2, r_cross):\n",
    "\t\t\t\t\n",
    "                mutation(c, r_mut)\n",
    "\t\t\t\n",
    "                children.append(c)\n",
    "\n",
    "        pop = children\n",
    "    return [best, best_eval]"
   ]
  },
  {
   "cell_type": "code",
   "execution_count": 236,
   "id": "084ff099-cb83-4e59-98c3-f37f7137001a",
   "metadata": {},
   "outputs": [
    {
     "name": "stdout",
     "output_type": "stream",
     "text": [
      "Starting genetic algorithm\n",
      "\n",
      ">iteration 0, new best f([-0.61859130859375, 0.08056640625]) = 0.3891461528837681\n",
      ">iteration 0, new best f([-0.550994873046875, -0.019073486328125]) = 0.30395914800465107\n",
      ">iteration 0, new best f([0.228118896484375, 0.174560546875]) = 0.08250961545854807\n",
      ">iteration 1, new best f([0.071868896484375, 0.20538330078125]) = 0.047347438521683216\n",
      ">iteration 2, new best f([0.071868896484375, 0.158538818359375]) = 0.03029969520866871\n",
      ">iteration 3, new best f([0.071868896484375, 0.157470703125]) = 0.029962160624563694\n",
      ">iteration 4, new best f([0.074310302734375, -0.0164794921875]) = 0.005793594755232334\n",
      ">iteration 5, new best f([0.052337646484375, -0.0115966796875]) = 0.002873712219297886\n",
      ">iteration 7, new best f([-0.028839111328125, 0.019378662109375]) = 0.001207226887345314\n",
      ">iteration 8, new best f([0.01312255859375, -0.02655029296875]) = 0.0008771196007728577\n",
      ">iteration 9, new best f([-0.028839111328125, 0.00518798828125]) = 0.000858609564602375\n",
      ">iteration 9, new best f([0.01312255859375, -0.02532958984375]) = 0.0008137896656990051\n",
      ">iteration 10, new best f([0.012664794921875, -0.01617431640625]) = 0.0004220055416226387\n",
      ">iteration 11, new best f([0.010833740234375, -0.01220703125]) = 0.00026638153940439224\n",
      ">iteration 12, new best f([0.010833740234375, -0.01190185546875]) = 0.00025902409106492996\n",
      ">iteration 13, new best f([0.00579833984375, -0.01220703125]) = 0.00018263235688209534\n",
      ">iteration 15, new best f([0.00579833984375, -0.0048828125]) = 5.7462602853775024e-05\n",
      ">iteration 16, new best f([0.00274658203125, -0.0048828125]) = 3.1385570764541626e-05\n",
      ">iteration 17, new best f([0.00274658203125, -0.00244140625]) = 1.3504177331924438e-05\n",
      ">iteration 19, new best f([0.002899169921875, -0.00030517578125]) = 8.498318493366241e-06\n",
      ">iteration 23, new best f([0.00091552734375, -0.000457763671875]) = 1.0477378964424133e-06\n",
      ">iteration 32, new best f([0.00030517578125, -0.0006103515625]) = 4.6566128730773926e-07\n",
      ">iteration 36, new best f([0.0, -0.000457763671875]) = 2.0954757928848267e-07\n",
      ">iteration 40, new best f([0.000152587890625, -0.00030517578125]) = 1.1641532182693481e-07\n",
      ">iteration 40, new best f([0.0, -0.000152587890625]) = 2.3283064365386963e-08\n",
      "\n",
      "Genetic algorithm completed\n",
      "\n",
      "Best solution: [0.0, -0.000152587890625]\n",
      "Fitness score of the best solution: 0.00000\n"
     ]
    }
   ],
   "source": [
    "bounds = [[-5.0, 5.0], [-5.0, 5.0]]\n",
    "\n",
    "r_mut = 1.0 / (float(n_bits) * len(bounds))\n",
    "\n",
    "print(f'Starting genetic algorithm\\n')\n",
    "best, score = genetic_algorithm(objective_function, bounds, r_mut)\n",
    "decoded = decode(bounds, n_bits, best)\n",
    "print(f'\\nGenetic algorithm completed\\n')\n",
    "print(f'Best solution: {decoded}')\n",
    "print(f'Fitness score of the best solution: {score:.5f}')"
   ]
  },
  {
   "cell_type": "markdown",
   "id": "7531cf42-8dd4-45ba-8062-ded06c83d7f5",
   "metadata": {},
   "source": [
    "### Binary optimization"
   ]
  },
  {
   "cell_type": "code",
   "execution_count": 162,
   "id": "c0446e48-8206-4f6d-87e0-a4f66cc13224",
   "metadata": {},
   "outputs": [],
   "source": [
    "def onemax(x):\n",
    "    return -sum(x)"
   ]
  },
  {
   "cell_type": "code",
   "execution_count": 186,
   "id": "626e09a5-9087-4f5d-b54a-368e66fa98ad",
   "metadata": {},
   "outputs": [],
   "source": [
    "def selection(pop,scores,k=3):\n",
    "    selection_ix = np.random.randint(len(pop))\n",
    "    for ix in range(0,len(pop),k-1):\n",
    "        if scores[ix]<scores[selection_ix]:\n",
    "            selection_ix = ix\n",
    "    return pop[selection_ix]"
   ]
  },
  {
   "cell_type": "code",
   "execution_count": 196,
   "id": "c6b217a8-c2d4-420b-bb04-0f1da12a529a",
   "metadata": {},
   "outputs": [],
   "source": [
    "def crossover(p1,p2,r_cross):\n",
    "    c1,c2 = p1.copy(),p2.copy()\n",
    "    if np.random.rand()<r_cross:\n",
    "        ct = np.random.randint(len(p2)-1)\n",
    "        c1 = p1[:ct]+p2[ct:]\n",
    "        c2 = p1[ct:]+p2[:ct]\n",
    "    return [c1,c2]"
   ]
  },
  {
   "cell_type": "code",
   "execution_count": 237,
   "id": "3eed241f-860d-45f1-9473-348533b0a44b",
   "metadata": {},
   "outputs": [],
   "source": [
    "def mutation(bitstring,r_mut):\n",
    "    for i in range(len(bitstring)):\n",
    "        if np.random.rand()<r_mut:\n",
    "            bitstring[i] = 1-bitstring[i]"
   ]
  },
  {
   "cell_type": "code",
   "execution_count": 238,
   "id": "919ca9d8-5abe-4e31-9eea-b6186562182f",
   "metadata": {},
   "outputs": [],
   "source": [
    "def genetic_alg(onemax,bounds,r_cross,r_mut,n_iter=100,n_pop=100,n_bits=20):\n",
    "    pop = [np.random.randint(0,2,n_bits).tolist() for _ in range(n_pop)]\n",
    "    best,best_eval = 0,onemax(pop[0])\n",
    "    for i in range(n_iter):\n",
    "        score = [onemax(x) for x in pop]\n",
    "        for j in range(n_pop):\n",
    "            if score[j]<best_eval:\n",
    "                best_eval,best = score[j],pop[j]\n",
    "                print(f'{i}> f({best}) : {best_eval}')\n",
    "            \n",
    "        selected = [selection(pop,score) for _ in range(n_pop)]\n",
    "        child = []\n",
    "        for j in range(0,n_pop,2):\n",
    "            p1,p2 = selected[j],selected[j+1]\n",
    "            for c in crossover(p1,p2,r_cross):\n",
    "                mutation(c,r_mut)\n",
    "                child.append(c)\n",
    "        pop = child\n",
    "    return best,best_eval"
   ]
  },
  {
   "cell_type": "code",
   "execution_count": 239,
   "id": "e0ba5281-4c04-4b47-8317-6fae283d8f60",
   "metadata": {},
   "outputs": [
    {
     "name": "stdout",
     "output_type": "stream",
     "text": [
      "Starting genetic algorithm\n",
      "\n",
      "0> f([1, 1, 0, 1, 0, 0, 0, 1, 0, 1, 0, 0, 1, 1, 1, 1, 0, 0, 1, 1]) : -11\n",
      "0> f([0, 1, 0, 1, 1, 1, 1, 0, 1, 1, 0, 1, 1, 0, 1, 0, 1, 1, 1, 1]) : -14\n",
      "0> f([0, 1, 1, 1, 1, 1, 1, 1, 1, 1, 0, 1, 0, 1, 1, 1, 1, 0, 1, 0]) : -15\n",
      "2> f([1, 1, 0, 1, 1, 0, 1, 1, 1, 1, 1, 1, 1, 1, 1, 1, 0, 1, 0, 1]) : -16\n",
      "2> f([1, 0, 1, 1, 0, 1, 1, 1, 1, 1, 1, 1, 1, 1, 0, 1, 1, 1, 1, 1]) : -17\n",
      "4> f([1, 1, 1, 1, 1, 1, 1, 1, 1, 1, 1, 1, 0, 1, 1, 0, 1, 1, 1, 1]) : -18\n",
      "6> f([1, 1, 1, 1, 1, 1, 1, 1, 1, 1, 1, 1, 1, 1, 1, 1, 1, 1, 1, 1]) : -20\n",
      "\n",
      "Genetic algorithm completed\n",
      "\n",
      "f([1, 1, 1, 1, 1, 1, 1, 1, 1, 1, 1, 1, 1, 1, 1, 1, 1, 1, 1, 1]) : -20\n"
     ]
    }
   ],
   "source": [
    "bounds = [[-5.0, 5.0], [-5.0, 5.0]]\n",
    "\n",
    "n_iter = 100\n",
    "\n",
    "n_bits = 16\n",
    "\n",
    "n_pop = 100\n",
    "\n",
    "r_cross = 0.9\n",
    "\n",
    "r_mut = 1.0 / (float(n_bits) * len(bounds))\n",
    "\n",
    "print(f'Starting genetic algorithm\\n')\n",
    "best, score = genetic_alg(onemax, bounds, r_cross, r_mut)\n",
    "print(f'\\nGenetic algorithm completed\\n')\n",
    "print(f'f({best}) : {score}')"
   ]
  },
  {
   "cell_type": "code",
   "execution_count": null,
   "id": "13a2e03b-8dd3-4df9-a383-cfcd75efe7d6",
   "metadata": {},
   "outputs": [],
   "source": []
  },
  {
   "cell_type": "code",
   "execution_count": null,
   "id": "e61b52fd-3d95-429d-a55e-79232b38be33",
   "metadata": {},
   "outputs": [],
   "source": []
  }
 ],
 "metadata": {
  "kernelspec": {
   "display_name": "Python 3 (ipykernel)",
   "language": "python",
   "name": "python3"
  },
  "language_info": {
   "codemirror_mode": {
    "name": "ipython",
    "version": 3
   },
   "file_extension": ".py",
   "mimetype": "text/x-python",
   "name": "python",
   "nbconvert_exporter": "python",
   "pygments_lexer": "ipython3",
   "version": "3.8.8"
  }
 },
 "nbformat": 4,
 "nbformat_minor": 5
}
