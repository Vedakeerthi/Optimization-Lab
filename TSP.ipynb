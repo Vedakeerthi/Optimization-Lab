{
 "cells": [
  {
   "cell_type": "code",
   "execution_count": 75,
   "id": "aaa7ae4f-316e-43ba-b9e7-b0e9067a6f8c",
   "metadata": {},
   "outputs": [],
   "source": [
    "import networkx as nx\n",
    "import numpy as np\n",
    "import pandas as pd"
   ]
  },
  {
   "cell_type": "markdown",
   "id": "44d31c2b-3589-4e4f-8ec5-754e70bff79b",
   "metadata": {},
   "source": [
    "### Generation of a weighed graph"
   ]
  },
  {
   "cell_type": "code",
   "execution_count": 76,
   "id": "7e0f27ae-7ad2-4c67-92b0-633b87671ed2",
   "metadata": {},
   "outputs": [],
   "source": [
    "def generate_random_weighted_graph(n,low,high):\n",
    "    g = nx.generators.complete_graph(n)\n",
    "    g.add_weighted_edges_from([(a,b,np.random.randint(low,high)) for a,b in g.edges()])\n",
    "    return g"
   ]
  },
  {
   "cell_type": "code",
   "execution_count": 77,
   "id": "94752c0d-a162-4eed-b8ef-ecfe042bbe29",
   "metadata": {},
   "outputs": [],
   "source": [
    "np.random.seed(3)\n",
    "g = generate_random_weighted_graph(7,1,20)"
    "nx.draw_networkx(g,with_label=True)"
   ]
  },
  {
   "cell_type": "markdown",
   "id": "69de4204-95fb-41eb-bebb-82df57e55570",
   "metadata": {},
   "source": [
    "### Nearest neighbour initialization"
   ]
  },
  {
   "cell_type": "code",
   "execution_count": 78,
   "id": "3615bf9d-e4be-4b2a-a863-8d501d95a4a8",
   "metadata": {},
   "outputs": [],
   "source": [
    "def nni(g,close_tour=False):\n",
    "    curr_node = np.random.choice(g)\n",
    "    path = [curr_node]\n",
    "    not_visited = set(g.nodes)-{curr_node} #1,2,4,5\n",
    "    while not_visited:\n",
    "        not_visited_neighbours = not_visited & set(g.neighbors(curr_node)) #1,2,3,4,5\n",
    "        key = lambda x: g[curr_node][x]['weight']\n",
    "        curr_node = min(not_visited_neighbours,key=key)\n",
    "        path.append(curr_node)\n",
    "        not_visited.remove(curr_node)\n",
    "    if close_tour:\n",
    "        path.append(path[0])\n",
    "    return path"
   ]
  },
  {
   "cell_type": "code",
   "execution_count": 79,
   "id": "a07c1577-cfe1-4508-a79d-e3443a5b0ebc",
   "metadata": {},
   "outputs": [],
   "source": [
    "parent_1 = nni(g)\n",
    "parent_2 = nni(g)"
   ]
  },
  {
   "cell_type": "markdown",
   "id": "566e76f2-a3a8-4ae8-88ab-fea37b9270f8",
   "metadata": {},
   "source": [
    "### Partially matched crossover"
   ]
  },
  {
   "cell_type": "code",
   "execution_count": 33,
   "id": "ed650964-a842-4802-b848-6db7a64c8a73",
   "metadata": {},
   "outputs": [],
   "source": [
    "def partially_matched_crossover(p1,p2):\n",
    "    pt = np.random.randint(1,len(p1)-1) # crossover point\n",
    "    c1 = p1[:pt] + p2[pt:]\n",
    "    c2 = p2[:pt] + p1[pt:]\n",
    "    m1=set(p1)-set(c1)\n",
    "    m2=set(p2)-set(c2)\n",
    "    \n",
    "    if m1 or m2:\n",
    "        c1=pd.Series(c1)\n",
    "        c1[c1.duplicated()]=list(m1)\n",
    "        c2=pd.Series(c2)\n",
    "        c2[c2.duplicated()]=list(m2)\n",
    "        c1=c1.to_list()\n",
    "        c2=c2.to_list()\n",
    "        \n",
    "    return c1,c2"
   ]
  },
  {
   "cell_type": "code",
   "execution_count": 34,
   "id": "2ac00215-806c-4061-8533-1ea18606520c",
   "metadata": {},
   "outputs": [
    {
     "data": {
      "text/plain": [
       "([0, 4, 1, 5, 2, 6, 3], [5, 1, 3, 0, 4, 2, 6])"
      ]
     },
     "execution_count": 34,
     "metadata": {},
     "output_type": "execute_result"
    }
   ],
   "source": [
    "partially_matched_crossover(parent_1,parent_2)"
   ]
  },
  {
   "cell_type": "markdown",
   "id": "abf8efb8-d008-4f09-8736-06709c46c80e",
   "metadata": {},
   "source": [
    "### Inversion mutation"
   ]
  },
  {
   "cell_type": "code",
   "execution_count": 61,
   "id": "7578f1ca-bc48-46a1-89e2-9f17cfd9339f",
   "metadata": {},
   "outputs": [],
   "source": [
    "def inversion_mutation(p):\n",
    "    start = np.random.randint(0,len(p)-1)\n",
    "    end = np.random.randint(start+1,len(p)+1)\n",
    "    subtour = p[start:end]\n",
    "    c = p.copy()\n",
    "    for i in range(start,end):\n",
    "        c[i] = subtour.pop()\n",
    "    return c"
   ]
  },
  {
   "cell_type": "code",
   "execution_count": 62,
   "id": "9b35c0dd-4b08-4274-a26e-93ceb339be8d",
   "metadata": {},
   "outputs": [
    {
     "data": {
      "text/plain": [
       "[0, 4, 3, 5, 1, 2]"
      ]
     },
     "execution_count": 62,
     "metadata": {},
     "output_type": "execute_result"
    }
   ],
   "source": [
    "inversion_mutation(parent_1)"
   ]
  },
  {
   "cell_type": "markdown",
   "id": "40db1bbb-9455-42f2-ac62-77f375b45d11",
   "metadata": {},
   "source": [
    "### Insertion mutation"
   ]
  },
  {
   "cell_type": "code",
   "execution_count": 80,
   "id": "ca0784a9-8cab-4095-98ec-882f4884adbe",
   "metadata": {},
   "outputs": [],
   "source": [
    "def insertion_mutation(p):\n",
    "    i = np.random.randint(1,len(p))\n",
    "    k = np.random.randint(0,len(p)-1)\n",
    "    c = p.copy()\n",
    "    c.insert(k,c.pop(i))\n",
    "    return c"
   ]
  },
  {
   "cell_type": "code",
   "execution_count": 81,
   "id": "4e1dfc64-06d4-45a4-8fec-3bd891d288f7",
   "metadata": {},
   "outputs": [
    {
     "data": {
      "text/plain": [
       "[5, 4, 0, 1, 2, 6, 3]"
      ]
     },
     "execution_count": 81,
     "metadata": {},
     "output_type": "execute_result"
    }
   ],
   "source": [
    "insertion_mutation(parent_1)"
   ]
  }
 ],
 "metadata": {
  "kernelspec": {
   "display_name": "Python 3 (ipykernel)",
   "language": "python",
   "name": "python3"
  },
  "language_info": {
   "codemirror_mode": {
    "name": "ipython",
    "version": 3
   },
   "file_extension": ".py",
   "mimetype": "text/x-python",
   "name": "python",
   "nbconvert_exporter": "python",
   "pygments_lexer": "ipython3",
   "version": "3.8.8"
  }
 },
 "nbformat": 4,
 "nbformat_minor": 5
}
