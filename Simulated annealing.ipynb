{
 "cells": [
  {
   "cell_type": "code",
   "execution_count": 159,
   "id": "b1c5f800-4abc-40df-bca8-2747e24c9751",
   "metadata": {},
   "outputs": [],
   "source": [
    "from numpy import exp,asarray\n",
    "from numpy.random import randn,uniform,rand,seed\n",
    "import matplotlib.pyplot as plt"
   ]
  },
  {
   "cell_type": "code",
   "execution_count": 160,
   "id": "b7dd0273-0eee-4554-9084-6031472becc6",
   "metadata": {},
   "outputs": [],
   "source": [
    "def ob(x):\n",
    "    return x**2"
   ]
  },
  {
   "cell_type": "code",
   "execution_count": 161,
   "id": "d2c3ea98-61e5-42b1-a1cd-9c7e25073740",
   "metadata": {},
   "outputs": [],
   "source": [
    "def sim(ob,bounds=[[-5,5]],n_iter=1000,temp=10,step_size=0.1):\n",
    "    scores=list()\n",
    "    best = uniform(bounds[0][0],bounds[0][1])\n",
    "    best_eval = ob(best)\n",
    "    curr, curr_eval = best,best_eval\n",
    "    \n",
    "    for i in range(n_iter):\n",
    "        cand = curr + randn(len(bounds)) * step_size\n",
    "        cand_eval = ob(cand)\n",
    "        \n",
    "        if cand_eval<best_eval:\n",
    "            best,best_eval = cand, cand_eval\n",
    "            print(f'{i}> f({best}) : {best_eval}')\n",
    "            scores.append(best_eval)\n",
    "        \n",
    "        t = temp/float(i+1)\n",
    "        diff = cand_eval - curr_eval\n",
    "        metropolis = exp(-diff/t)\n",
    "        if diff<0 or rand()<metropolis:\n",
    "            curr,curr_eval = cand,cand_eval\n",
    "    return (best,best_eval,scores)"
   ]
  },
  {
   "cell_type": "code",
   "execution_count": 162,
   "id": "32660656-603f-443b-83c0-7b540292e969",
   "metadata": {},
   "outputs": [
    {
     "name": "stdout",
     "output_type": "stream",
     "text": [
      "34> f([-0.78753544]) : [0.62021207]\n",
      "35> f([-0.76914239]) : [0.59158001]\n",
      "37> f([-0.68574854]) : [0.47025106]\n",
      "39> f([-0.64797564]) : [0.41987243]\n",
      "40> f([-0.58914623]) : [0.34709328]\n",
      "41> f([-0.55446029]) : [0.30742622]\n",
      "42> f([-0.41775702]) : [0.17452093]\n",
      "43> f([-0.35038542]) : [0.12276994]\n",
      "50> f([-0.15799045]) : [0.02496098]\n",
      "66> f([-0.11089772]) : [0.0122983]\n",
      "67> f([-0.09238208]) : [0.00853445]\n",
      "72> f([-0.09145261]) : [0.00836358]\n",
      "75> f([-0.05129162]) : [0.00263083]\n",
      "93> f([-0.02854417]) : [0.00081477]\n",
      "144> f([0.00864136]) : [7.46731022e-05]\n",
      "149> f([0.00753953]) : [5.68444834e-05]\n",
      "167> f([-0.00640394]) : [4.10104108e-05]\n",
      "225> f([-0.00044965]) : [2.02184727e-07]\n",
      "503> f([-0.00036261]) : [1.31483625e-07]\n",
      "512> f([0.00013605]) : [1.85086423e-08]\n",
      "Done!\n",
      "f([0.00013605]): [1.85086423e-08]\n"
     ]
    },
    {
     "data": {
      "image/png": "[encoded data removed]",
      "text/plain": [
       "<Figure size 432x288 with 1 Axes>"
      ]
     },
     "metadata": {
      "needs_background": "light"
     },
     "output_type": "display_data"
    }
   ],
   "source": [
    "seed(1)\n",
    "best,best_val, s = sim(ob)\n",
    "print('Done!')\n",
    "print(f'f({best}): {best_val}')\n",
    "plt.plot(s,'.-',color='red')\n",
    "plt.title('Simulated annealing')\n",
    "plt.xlabel('Improvement Number')\n",
    "plt.ylabel('Evaluation f(x)')\n",
    "plt.show()"
   ]
  },
  {
   "cell_type": "code",
   "execution_count": null,
   "id": "7884fddd-bb4f-44b4-858c-f0e01833a2b1",
   "metadata": {},
   "outputs": [],
   "source": []
  }
 ],
 "metadata": {
  "kernelspec": {
   "display_name": "Python 3 (ipykernel)",
   "language": "python",
   "name": "python3"
  },
  "language_info": {
   "codemirror_mode": {
    "name": "ipython",
    "version": 3
   },
   "file_extension": ".py",
   "mimetype": "text/x-python",
   "name": "python",
   "nbconvert_exporter": "python",
   "pygments_lexer": "ipython3",
   "version": "3.8.8"
  }
 },
 "nbformat": 4,
 "nbformat_minor": 5
}
