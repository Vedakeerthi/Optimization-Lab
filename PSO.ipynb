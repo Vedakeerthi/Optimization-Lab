{
 "cells": [
  {
   "cell_type": "code",
   "execution_count": 33,
   "id": "bccf3830-bf4b-46fd-a0a5-fd48f3d74529",
   "metadata": {},
   "outputs": [],
   "source": [
    "import numpy as np"
   ]
  },
  {
   "cell_type": "code",
   "execution_count": 34,
   "id": "47bf39b8-c8bf-41e4-b10c-be305daf66a3",
   "metadata": {},
   "outputs": [],
   "source": [
    "def obj_func(position):\n",
    "    f_val = 0\n",
    "    for i in range(len(position)):\n",
    "        x = position[i]\n",
    "        f_val += x**2\n",
    "    return f_val"
   ]
  },
  {
   "cell_type": "code",
   "execution_count": 40,
   "id": "50afe6d6-9752-46f1-a50c-b0b4180efb83",
   "metadata": {},
   "outputs": [],
   "source": [
    "class Particle:\n",
    "    def __init__(self, fitness, dim, minx, maxx, seed):\n",
    "        \n",
    "        np.random.seed(seed)\n",
    "        self.pos = np.random.uniform(minx,maxx,dim)\n",
    "        self.vel = np.random.uniform(minx,maxx,dim)\n",
    "        \n",
    "        self.fitness = fitness(self.pos)\n",
    "\n",
    "        self.best_pos = copy.copy(self.pos)\n",
    "        self.best_fitness = self.fitness"
   ]
  },
  {
   "cell_type": "code",
   "execution_count": 50,
   "id": "afec0364-85dc-4173-8b8f-80f2050ca8c6",
   "metadata": {},
   "outputs": [],
   "source": [
    "def pso(fitness, max_iter, n, dim, minx, maxx):\n",
    "    w = 0.729 # inertia\n",
    "    c1 = 1.49445 # cognitive (particle)\n",
    "    c2 = 1.49445 # social (swarm)\n",
    "\n",
    "    swarm = [Particle(fitness, dim, minx, maxx, i) for i in range(n)]\n",
    "    best_particle = min(swarm,key=lambda x: x.fitness)\n",
    "    swarm_best_pos = np.copy(best_particle.pos)\n",
    "    swarm_best_fitness = best_particle.fitness\n",
    "\n",
    "    for it in range(max_iter):\n",
    "        if it%10==0:\n",
    "            print(f'{it}> f({swarm_best_pos}) : {swarm_best_fitness}')\n",
    "            \n",
    "        for particle in swarm:\n",
    "            r1,r2 = np.random.rand(2)\n",
    "            particle.vel = ( (w*particle.vel) +\n",
    "                            (r1*c1*(particle.best_pos - particle.pos)) + \n",
    "                            (r2*c2*(swarm_best_pos - particle.pos)) )\n",
    "            \n",
    "            particle.vel = np.clip(particle.vel,minx,maxx)\n",
    "            particle.pos += particle.vel\n",
    "            \n",
    "            particle.fitness = fitness(particle.pos)\n",
    "            \n",
    "            if particle.fitness < particle.best_fitness:\n",
    "                particle.best_fitness = particle.fitness\n",
    "                particle.best_pos = np.copy(particle.pos)\n",
    "            \n",
    "            if particle.fitness < swarm_best_fitness:\n",
    "                swarm_best_pos = np.copy(particle.pos)\n",
    "                swarm_best_fitness = particle.fitness\n",
    "    return swarm_best_pos,swarm_best_fitness"
   ]
  },
  {
   "cell_type": "code",
   "execution_count": 51,
   "id": "ebdb64e1-36d4-4dfa-8ca7-069df0f664df",
   "metadata": {},
   "outputs": [
    {
     "name": "stdout",
     "output_type": "stream",
     "text": [
      "\n",
      "Starting PSO algorithm\n",
      "\n",
      "0> f([0.97627008 4.30378733 2.05526752]) : 23.699813210827383\n",
      "10> f([ 0.0851573  -0.16252095 -0.06901809]) : 0.03842832234723074\n",
      "20> f([ 0.02049575  0.00915377 -0.03842354]) : 0.001980235418279138\n",
      "30> f([ 0.00988443 -0.00097512 -0.0018073 ]) : 0.0001019190360111861\n",
      "40> f([-0.00132783 -0.00037242  0.00020244]) : 1.9428154195125917e-06\n",
      "50> f([-5.94583908e-06 -4.16823895e-05 -1.22572707e-05]) : 1.9230152794645746e-09\n",
      "60> f([-5.94583908e-06 -4.16823895e-05 -1.22572707e-05]) : 1.9230152794645746e-09\n",
      "70> f([-5.94583908e-06 -4.16823895e-05 -1.22572707e-05]) : 1.9230152794645746e-09\n",
      "80> f([ 8.91756836e-06 -2.16905903e-05 -3.41095220e-06]) : 5.616393260060321e-10\n",
      "90> f([ 1.11785230e-06 -4.21842288e-06  1.09886044e-06]) : 2.0252179660577686e-11\n",
      "\n",
      "PSO completed\n",
      "\n",
      "\n",
      "Best solution found:\n",
      "f([ 1.54035762e-06 -2.80634286e-06  2.79947253e-06]) : 1.8085308270074727e-11\n"
     ]
    }
   ],
   "source": [
    "dim = 3\n",
    "fitness = obj_func\n",
    "num_particles = 50\n",
    "max_iter = 100\n",
    "\n",
    "print(\"\\nStarting PSO algorithm\\n\")\n",
    "\n",
    "best_position,best_fitness = pso(obj_func, max_iter, num_particles, dim, -10.0, 10.0)\n",
    "\n",
    "print(\"\\nPSO completed\\n\")\n",
    "print(\"\\nBest solution found:\")\n",
    "print(f'f({best_position}) : {best_fitness}')"
   ]
  },
  {
   "cell_type": "code",
   "execution_count": null,
   "id": "cad033af-c2f8-4260-8fd9-14356f3acee8",
   "metadata": {},
   "outputs": [],
   "source": []
  }
 ],
 "metadata": {
  "kernelspec": {
   "display_name": "Python 3 (ipykernel)",
   "language": "python",
   "name": "python3"
  },
  "language_info": {
   "codemirror_mode": {
    "name": "ipython",
    "version": 3
   },
   "file_extension": ".py",
   "mimetype": "text/x-python",
   "name": "python",
   "nbconvert_exporter": "python",
   "pygments_lexer": "ipython3",
   "version": "3.8.8"
  }
 },
 "nbformat": 4,
 "nbformat_minor": 5
}
